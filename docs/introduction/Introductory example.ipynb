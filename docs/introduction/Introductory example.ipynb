{
 "cells": [
  {
   "cell_type": "markdown",
   "metadata": {},
   "source": [
    "# First introduction to sankeyview\n",
    "\n",
    "This tutorial will go through the basic ways to use `sankeyview` to process and transform data into many different Sankey diagrams.\n",
    "\n",
    "Let's start by making a really simple dataset. Imagine we have some farms, which grow apples and bananas to sell to a few different customers. We can describe the *flow* of fruit from the farms (the *source* of the flow) to the customers (the *target* of the flow):"
   ]
  },
  {
   "cell_type": "code",
   "execution_count": null,
   "metadata": {},
   "outputs": [],
   "source": [
    "import pandas as pd\n",
    "\n",
    "flows = pd.DataFrame([\n",
    "    ('farm1', 'Mary', 'apples', 5),\n",
    "    ('farm1', 'James', 'apples', 3),\n",
    "    ('farm2', 'Fred', 'apples', 10),\n",
    "    ('farm2', 'Fred', 'bananas', 10),\n",
    "    ('farm2', 'Susan', 'bananas', 5),\n",
    "    ('farm3', 'Susan', 'apples', 10),\n",
    "    ('farm4', 'Susan', 'bananas', 1),\n",
    "    ('farm5', 'Susan', 'bananas', 1),\n",
    "    ('farm6', 'Susan', 'bananas', 1),\n",
    "], columns=['source', 'target', 'type', 'value'])\n",
    "\n",
    "flows"
   ]
  },
  {
   "cell_type": "markdown",
   "metadata": {},
   "source": [
    "Drawn directly as a Sankey diagram, this data would look something like this:"
   ]
  },
  {
   "cell_type": "code",
   "execution_count": null,
   "metadata": {},
   "outputs": [],
   "source": [
    "from ipysankeywidget import SankeyWidget\n",
    "SankeyWidget(links=flows.to_dict('records'))"
   ]
  },
  {
   "cell_type": "markdown",
   "metadata": {},
   "source": [
    "But you don't always want a direct correspondence between the flows in your data and the links that you see in the Sankey diagram. For example:\n",
    "- Farms 4, 5 and 6 are all pretty small, and to make the diagram clearer we might want to group them in an \"other\" category.\n",
    "- The flows of apples are mixed in with the flows of bananas -- we might want to group the kinds of fruit together to make them easier to compare\n",
    "- We might want to group farms or customers based on some other attributes -- to see difference between genders, locations, or organic/non-organic farms, say.\n",
    "\n",
    "This introduction shows how to use `sankeyview` to do some of these for this simple example, in the simplest possible way. Later tutorials will show how to use it on real data, and more efficient ways to do the same things.\n",
    "\n",
    "Let's start with the first example: grouping farms 4, 5 and 6 into an \"other\" category. `sankeyview` works by setting up a \"Sankey diagram definition\" which describes the structure of the diagram we want to see. In this case, we need to set up some groups:"
   ]
  },
  {
   "cell_type": "code",
   "execution_count": null,
   "metadata": {
    "collapsed": true
   },
   "outputs": [],
   "source": [
    "from sankeyview import *\n",
    "from sankeyview.jupyter import show_sankey\n",
    "\n",
    "nodes = {\n",
    "    'farms': ProcessGroup(['farm1', 'farm2', 'farm3', 'farm4', 'farm5', 'farm6']),\n",
    "    'customers': ProcessGroup(['James', 'Mary', 'Fred', 'Susan']),\n",
    "}"
   ]
  },
  {
   "cell_type": "markdown",
   "metadata": {},
   "source": [
    "We need to describe roughly how these groups should be placed in the final diagram by defining an \"ordering\" -- a list of vertical slices, each containing a list of node ids:"
   ]
  },
  {
   "cell_type": "code",
   "execution_count": null,
   "metadata": {
    "collapsed": true
   },
   "outputs": [],
   "source": [
    "ordering = [\n",
    "    ['farms'],\n",
    "    ['customers'],\n",
    "]"
   ]
  },
  {
   "cell_type": "markdown",
   "metadata": {},
   "source": [
    "And we also need to say which connections should appear in the diagram (sometimes you don't want to actually see all the connections). This is called a \"bundle\" because it bundles up multiple flows -- in this case all of them."
   ]
  },
  {
   "cell_type": "code",
   "execution_count": null,
   "metadata": {
    "collapsed": true
   },
   "outputs": [],
   "source": [
    "bundles = [\n",
    "    Bundle('farms', 'customers'),\n",
    "]"
   ]
  },
  {
   "cell_type": "markdown",
   "metadata": {},
   "source": [
    "Putting that together into a Sankey diagram definition (SDD) and applying it to the data gives this result:"
   ]
  },
  {
   "cell_type": "code",
   "execution_count": null,
   "metadata": {},
   "outputs": [],
   "source": [
    "sdd = SankeyDefinition(nodes, bundles, ordering)\n",
    "show_sankey(sdd, flows)"
   ]
  },
  {
   "cell_type": "markdown",
   "metadata": {},
   "source": [
    "That's not very useful. What's happened? Every farm and every customer has been lumped together into one group. To get the picture we want -- like the first one, but with an \"other\" group containing farms 4, 5 and 6 -- we need to *partition* the groups:"
   ]
  },
  {
   "cell_type": "code",
   "execution_count": null,
   "metadata": {},
   "outputs": [],
   "source": [
    "# The first argument is the dimension name -- for now we're using \"process\" to group by process ids\n",
    "farms_with_other = Partition.Simple('process', [\n",
    "    'farm1',  # the groups within the partition can be a single id...\n",
    "    'farm2',\n",
    "    'farm3',\n",
    "    ('other', ['farm4', 'farm5', 'farm6']),   # ... or a group\n",
    "])\n",
    "\n",
    "# This is another partition\n",
    "customers_by_name = Partition.Simple('process', ['James', 'Mary', 'Fred', 'Susan'])\n",
    "\n",
    "# Update the ProcessGroup nodes to use the partitions\n",
    "nodes['farms'].partition = farms_with_other\n",
    "nodes['customers'].partition = customers_by_name\n",
    "\n",
    "# New Sankey!\n",
    "show_sankey(sdd, flows)"
   ]
  },
  {
   "cell_type": "markdown",
   "metadata": {},
   "source": [
    "That's better: now the farms are split up appropriately with an \"other\" category, and the customers are shown separately as well. We don't have to stop there -- what about showing sales to men and women?"
   ]
  },
  {
   "cell_type": "code",
   "execution_count": null,
   "metadata": {},
   "outputs": [],
   "source": [
    "customers_by_gender = Partition.Simple('process', [\n",
    "    ('Men', ['Fred', 'James']),\n",
    "    ('Women', ['Susan', 'Mary']),\n",
    "])\n",
    "\n",
    "nodes['customers'].partition = customers_by_gender\n",
    "\n",
    "show_sankey(sdd, flows)"
   ]
  },
  {
   "cell_type": "markdown",
   "metadata": {},
   "source": [
    "> There is a better way of specifying this type of partition that doesn't involve hard-coding who's a man and who's a woman into the code -- see the later tutorial on using *dimension tables*.\n",
    "\n",
    "These diagrams have lost sight of the kind of fruit that is actually being sold -- are the men buying apples, bananas or both from farm1? To show this we need to split up the flows in the diagram based on their *type*. Just like we split up the `ProcessGroups` by defining a partition of processes, we split up flows by defining a partition of flows.\n",
    "\n",
    "(While we're at it let's choose some colours that look vaguely like apples and bananas)"
   ]
  },
  {
   "cell_type": "code",
   "execution_count": null,
   "metadata": {},
   "outputs": [],
   "source": [
    "# Another partition -- but this time the dimension is the \"type\" column of the flows table\n",
    "fruits_by_type = Partition.Simple('type', ['apples', 'bananas'])\n",
    "\n",
    "palette = {'apples': 'yellowgreen', 'bananas': 'gold'}\n",
    "\n",
    "# New SDD with the flow_partition set\n",
    "sdd = SankeyDefinition(nodes, bundles, ordering, flow_partition=fruits_by_type)\n",
    "show_sankey(sdd, flows, palette=palette)"
   ]
  },
  {
   "cell_type": "markdown",
   "metadata": {},
   "source": [
    "As a last step, it would be nice to label which flows are apples and which are bananas. One way to do this would be to use a legend next to the diagram, or to put labels on every flow. Here, we'll add a new layer in the middle of the diagram which temporarily groups together the different fruit types on their way from the farms to the customers. This temporary/additional grouping point is called a *waypoint*.\n",
    "\n",
    "To add a waypoint, we need to do three things:\n",
    "1. Define it as a node\n",
    "2. Position it in the ordering (between `farms` and `customers`)\n",
    "3. Add it to the bundle"
   ]
  },
  {
   "cell_type": "code",
   "execution_count": null,
   "metadata": {},
   "outputs": [],
   "source": [
    "# Define a new waypoint node\n",
    "nodes['waypoint'] = Waypoint()\n",
    "\n",
    "# Update the ordering to show where the waypoint goes: in the middle\n",
    "ordering = [\n",
    "    ['farms'],\n",
    "    ['waypoint'],\n",
    "    ['customers'],\n",
    "]\n",
    "\n",
    "# Update the bundle definition to send the flows via the waypoint\n",
    "bundles = [\n",
    "    Bundle('farms', 'customers', waypoints=['waypoint']),\n",
    "]\n",
    "\n",
    "sdd = SankeyDefinition(nodes, bundles, ordering, flow_partition=fruits_by_type)\n",
    "show_sankey(sdd, flows, palette=palette)"
   ]
  },
  {
   "cell_type": "markdown",
   "metadata": {},
   "source": [
    "That's not yet very useful -- we need to set the partition on the waypoint to split apart apples and bananas:"
   ]
  },
  {
   "cell_type": "code",
   "execution_count": null,
   "metadata": {},
   "outputs": [],
   "source": [
    "# Redefine the waypoint with a partition (same one defined above)\n",
    "nodes['waypoint'] = Waypoint(fruits_by_type)\n",
    "show_sankey(sdd, flows, palette=palette)"
   ]
  },
  {
   "cell_type": "markdown",
   "metadata": {},
   "source": [
    "As a final example, we'll show that...."
   ]
  },
  {
   "cell_type": "markdown",
   "metadata": {},
   "source": [
    "This has demonstrated the basic usage of `sankeyview`: defining `ProcessGroup`s, `Waypoint`s, `Partition`s, and `Bundle`s. If you are reading the interactive version, why not go back and try out some different ways to present the data? Here are some suggestions:\n",
    "\n",
    "1. Farms 1, 3 and 5 are organic. Can you change the farm Partition to show two groups, organic and non-organic?\n",
    "2. What happens if you remove `\"farm1\"` from the original definition of the `farms` `ProcessGroup`? (Hint: those apples that James and Mary are eating have to come from somewhere -- so they are shown as coming from \"elsewhere\". See later tutorial [in progress])\n",
    "..."
   ]
  },
  {
   "cell_type": "code",
   "execution_count": null,
   "metadata": {
    "collapsed": true
   },
   "outputs": [],
   "source": []
  },
  {
   "cell_type": "code",
   "execution_count": null,
   "metadata": {
    "collapsed": true
   },
   "outputs": [],
   "source": []
  },
  {
   "cell_type": "code",
   "execution_count": null,
   "metadata": {
    "collapsed": true
   },
   "outputs": [],
   "source": []
  }
 ],
 "metadata": {
  "kernelspec": {
   "display_name": "Python 3",
   "language": "python",
   "name": "python3"
  },
  "language_info": {
   "codemirror_mode": {
    "name": "ipython",
    "version": 3
   },
   "file_extension": ".py",
   "mimetype": "text/x-python",
   "name": "python",
   "nbconvert_exporter": "python",
   "pygments_lexer": "ipython3",
   "version": "3.6.3"
  },
  "widgets": {
   "application/vnd.jupyter.widget-state+json": {
    "state": {
     "023588fbfb2b45a0b81de52cc3c1b2c5": {
      "model_module": "jupyter-sankey-widget",
      "model_module_version": "^0.2.2",
      "model_name": "SankeyModel",
      "state": {
       "_model_module_version": "^0.2.2",
       "_view_module_version": "^0.2.2",
       "layout": "IPY_MODEL_8d8bea5e5b5a41998c7a5654b764220c",
       "links": [
        {
         "source": "farm1",
         "target": "Mary",
         "type": "apples",
         "value": 5
        },
        {
         "source": "farm1",
         "target": "James",
         "type": "apples",
         "value": 3
        },
        {
         "source": "farm2",
         "target": "Fred",
         "type": "apples",
         "value": 10
        },
        {
         "source": "farm2",
         "target": "Fred",
         "type": "bananas",
         "value": 10
        },
        {
         "source": "farm2",
         "target": "Susan",
         "type": "bananas",
         "value": 5
        },
        {
         "source": "farm3",
         "target": "Susan",
         "type": "apples",
         "value": 10
        },
        {
         "source": "farm4",
         "target": "Susan",
         "type": "bananas",
         "value": 1
        },
        {
         "source": "farm5",
         "target": "Susan",
         "type": "bananas",
         "value": 1
        },
        {
         "source": "farm6",
         "target": "Susan",
         "type": "bananas",
         "value": 1
        }
       ],
       "nodes": [
        {
         "id": "farm1"
        },
        {
         "id": "farm2"
        },
        {
         "id": "farm3"
        },
        {
         "id": "farm4"
        },
        {
         "id": "farm5"
        },
        {
         "id": "farm6"
        },
        {
         "id": "Mary"
        },
        {
         "id": "James"
        },
        {
         "id": "Fred"
        },
        {
         "id": "Susan"
        }
       ],
       "order": [],
       "png": "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",
       "scale": 4.130434782608695,
       "svg": "<?xml version=\"1.0\" standalone=\"no\"?><!DOCTYPE svg PUBLIC \"-//W3C//DTD SVG 1.1//EN\" \"http://www.w3.org/Graphics/SVG/1.1/DTD/svg11.dtd\"><svg xmlns=\"http://www.w3.org/2000/svg\" width=\"600\" height=\"400\" viewBox=\"0 0 600 400\" style=\"font-family: &quot;Helvetica Neue&quot;,Helvetica,Arial,sans-serif;\"><g class=\"sankey\" transform=\"translate(100,10)\"><g class=\"groups\"/><g class=\"links\"><g class=\"link\" style=\"opacity: 0.8;\"><path d=\"M1,284.0086956521739 A529.9710068649883 529.9710068649883 0.1397858025475467 0 1 74.84139549871934,289.17810531276047 L325.73410215004543,324.47957481718555 A525.8405720823796 525.8405720823796 0.1397858025475467 0 0 399,329.60869565217394 L399,333.7391304347827 A529.9710068649883 529.9710068649883 0.1397858025475467 0 1 325.15860450128065,328.5697207741961 L74.26589784995461,293.26825126977104 A525.8405720823796 525.8405720823796 0.1397858025475467 0 0 1,288.13913043478266 Z\" style=\"fill: rgb(174, 199, 232);\"/><title>farm4 → Susan\nbananas\n1.00</title></g><g class=\"link\" style=\"opacity: 0.8;\"><path d=\"M1,310.9391304347826 A1002.0652173913044 1002.0652173913044 0.06924816443985882 0 1 70.3357315680506,313.34077630144384 L329.9500649174235,331.3473839653373 A997.9347826086956 997.9347826086956 0.06924816443985882 0 0 399,333.7391304347826 L399,337.86956521739137 A1002.0652173913044 1002.0652173913044 0.06924816443985882 0 1 329.66426843194944,335.46791935073014 L70.04993508257648,317.46131168683667 A997.9347826086956 997.9347826086956 0.06924816443985882 0 0 1,315.06956521739136 Z\" style=\"fill: rgb(174, 199, 232);\"/><title>farm5 → Susan\nbananas\n1.00</title></g><g class=\"link\" style=\"opacity: 0.8;\"><path d=\"M1,337.8695652173913 A0 0 0 0 0 1,337.8695652173913 L399,337.8695652173913 A0 0 0 0 0 399,337.8695652173913 L399,342.00000000000006 A0 0 0 0 0 399,342.00000000000006 L1,342.00000000000006 A0 0 0 0 0 1,342.00000000000006 Z\" style=\"fill: rgb(174, 199, 232);\"/><title>farm6 → Susan\nbananas\n1.00</title></g><g class=\"link\" style=\"opacity: 0.8;\"><path d=\"M1,38 A0 0 0 0 0 1,38 L399,38 A0 0 0 0 0 399,38 L399,50.39130434782609 A0 0 0 0 0 399,50.39130434782609 L1,50.39130434782609 A0 0 0 0 0 1,50.39130434782609 Z\" style=\"fill: rgb(31, 119, 180);\"/><title>farm1 → James\napples\n3.00</title></g><g class=\"link\" style=\"opacity: 0.8;\"><path d=\"M1,50.39130434782609 A641.3050343249428 641.3050343249428 0.11663581569440629 0 1 75.62965761126904,54.74849052871495 L326.7736677730096,84.17443418188002 A620.6528604118993 620.6528604118993 0.11663581569440629 0 0 399,88.3913043478261 L399,109.04347826086956 A641.3050343249428 641.3050343249428 0.11663581569440629 0 1 324.37034238873093,104.6862920799807 L73.2263322269904,75.26034842681564 A620.6528604118993 620.6528604118993 0.11663581569440629 0 0 1,71.04347826086956 Z\" style=\"fill: rgb(31, 119, 180);\"/><title>farm1 → Mary\napples\n5.00</title></g><g class=\"link\" style=\"opacity: 0.8;\"><path d=\"M1,176.45217391304345 A284.5389816933637 284.5389816933637 0.27617761007115016 0 1 78.5881208313269,187.23484863073259 L327.04331622330346,257.65211840693735 A263.8868077803202 263.8868077803202 0.27617761007115016 0 0 399,267.6521739130435 L399,288.304347826087 A284.5389816933637 284.5389816933637 0.27617761007115016 0 1 321.41187916867307,277.52167310839786 L72.95668377669656,207.10440333219304 A263.8868077803202 263.8868077803202 0.27617761007115016 0 0 1,197.10434782608695 Z\" style=\"fill: rgb(174, 199, 232);\"/><title>farm2 → Susan\nbananas\n5.00</title></g><g class=\"link\" style=\"opacity: 0.8;\"><path d=\"M1,93.84347826086957 A516.5643412880027 516.5643412880027 0.16505976636153674 0 1 85.87735087429948,100.86434348537756 L327.69619008800356,141.14538608163252 A433.9556456358287 433.9556456358287 0.16505976636153674 0 0 399,147.04347826086956 L399,188.3478260869565 A475.2599934619157 475.2599934619157 0.16505976636153674 0 1 320.90941960685205,181.888347385084 L79.09058039314797,141.60730478882903 A475.2599934619157 475.2599934619157 0.16505976636153674 0 0 1,135.1478260869565 Z\" style=\"fill: rgb(31, 119, 180);\"/><title>farm2 → Fred\napples\n10.0</title></g><g class=\"link\" style=\"opacity: 0.8;\"><path d=\"M1,135.1478260869565 A475.2599934619157 475.2599934619157 0.16505976636153674 0 1 79.09058039314796,141.60730478882903 L320.909419606852,181.888347385084 A475.2599934619157 475.2599934619157 0.16505976636153674 0 0 399,188.3478260869565 L399,229.65217391304344 A516.5643412880027 516.5643412880027 0.16505976636153674 0 1 314.1226491257005,222.63130868853546 L72.30380991199645,182.3502660922805 A433.9556456358287 433.9556456358287 0.16505976636153674 0 0 1,176.45217391304345 Z\" style=\"fill: rgb(174, 199, 232);\"/><title>farm2 → Fred\nbananas\n10.0</title></g><g class=\"link\" style=\"opacity: 0.8;\"><path d=\"M1,219.90434782608696 A378.2893668954993 378.2893668954993 0.20860419765243954 0 1 79.34166975353521,228.1053092203794 L329.21223595978705,280.99882625004284 A336.9850190694123 336.9850190694123 0.20860419765243954 0 0 399,288.304347826087 L399,329.608695652174 A378.2893668954993 378.2893668954993 0.20860419765243954 0 1 320.6583302464648,321.40773425788154 L70.78776404021299,268.51421722821806 A336.9850190694123 336.9850190694123 0.20860419765243954 0 0 1,261.2086956521739 Z\" style=\"fill: rgb(31, 119, 180);\"/><title>farm3 → Susan\napples\n10.0</title></g></g><g class=\"nodes\"><g class=\"node\" transform=\"translate(0,38)\"><title>farm1</title><text dy=\".35em\" text-anchor=\"end\" transform=\"translate(-4,16.52173913043478)\" style=\"display: inline;\">farm1</text><line x1=\"0\" x2=\"0\" y1=\"0\" y2=\"33.04347826086956\" style=\"display: inline; stroke: rgb(0, 0, 0);\"/><rect x=\"-5\" y=\"-5\" width=\"10\" style=\"fill: none; visibility: hidden; pointer-events: all;\" height=\"38.04347826086956\"/></g><g class=\"node\" transform=\"translate(0,93.84347826086957)\"><title>farm2</title><text dy=\".35em\" text-anchor=\"end\" transform=\"translate(-4,51.63043478260869)\" style=\"display: inline;\">farm2</text><line x1=\"0\" x2=\"0\" y1=\"0\" y2=\"103.26086956521738\" style=\"display: inline; stroke: rgb(0, 0, 0);\"/><rect x=\"-5\" y=\"-5\" width=\"10\" style=\"fill: none; visibility: hidden; pointer-events: all;\" height=\"108.26086956521738\"/></g><g class=\"node\" transform=\"translate(0,219.90434782608696)\"><title>farm3</title><text dy=\".35em\" text-anchor=\"end\" transform=\"translate(-4,20.65217391304347)\" style=\"display: inline;\">farm3</text><line x1=\"0\" x2=\"0\" y1=\"0\" y2=\"41.30434782608694\" style=\"display: inline; stroke: rgb(0, 0, 0);\"/><rect x=\"-5\" y=\"-5\" width=\"10\" style=\"fill: none; visibility: hidden; pointer-events: all;\" height=\"46.30434782608694\"/></g><g class=\"node\" transform=\"translate(0,284.0086956521739)\"><title>farm4</title><text dy=\".35em\" text-anchor=\"end\" transform=\"translate(-4,2.065217391304344)\" style=\"display: inline;\">farm4</text><line x1=\"0\" x2=\"0\" y1=\"0\" y2=\"4.130434782608688\" style=\"display: inline; stroke: rgb(0, 0, 0);\"/><rect x=\"-5\" y=\"-5\" width=\"10\" style=\"fill: none; visibility: hidden; pointer-events: all;\" height=\"9.130434782608688\"/></g><g class=\"node\" transform=\"translate(0,310.9391304347826)\"><title>farm5</title><text dy=\".35em\" text-anchor=\"end\" transform=\"translate(-4,2.065217391304344)\" style=\"display: inline;\">farm5</text><line x1=\"0\" x2=\"0\" y1=\"0\" y2=\"4.130434782608688\" style=\"display: inline; stroke: rgb(0, 0, 0);\"/><rect x=\"-5\" y=\"-5\" width=\"10\" style=\"fill: none; visibility: hidden; pointer-events: all;\" height=\"9.130434782608688\"/></g><g class=\"node\" transform=\"translate(0,337.8695652173913)\"><title>farm6</title><text dy=\".35em\" text-anchor=\"end\" transform=\"translate(-4,2.065217391304344)\" style=\"display: inline;\">farm6</text><line x1=\"0\" x2=\"0\" y1=\"0\" y2=\"4.130434782608688\" style=\"display: inline; stroke: rgb(0, 0, 0);\"/><rect x=\"-5\" y=\"-5\" width=\"10\" style=\"fill: none; visibility: hidden; pointer-events: all;\" height=\"9.130434782608688\"/></g><g class=\"node\" transform=\"translate(399,88.3913043478261)\"><title>Mary</title><text dy=\".35em\" text-anchor=\"start\" transform=\"translate(4,10.326086956521735)\" style=\"display: inline;\">Mary</text><line x1=\"0\" x2=\"0\" y1=\"0\" y2=\"20.65217391304347\" style=\"display: inline; stroke: rgb(0, 0, 0);\"/><rect x=\"-5\" y=\"-5\" width=\"10\" style=\"fill: none; visibility: hidden; pointer-events: all;\" height=\"25.65217391304347\"/></g><g class=\"node\" transform=\"translate(399,38)\"><title>James</title><text dy=\".35em\" text-anchor=\"start\" transform=\"translate(4,6.195652173913043)\" style=\"display: inline;\">James</text><line x1=\"0\" x2=\"0\" y1=\"0\" y2=\"12.391304347826086\" style=\"display: inline; stroke: rgb(0, 0, 0);\"/><rect x=\"-5\" y=\"-5\" width=\"10\" style=\"fill: none; visibility: hidden; pointer-events: all;\" height=\"17.391304347826086\"/></g><g class=\"node\" transform=\"translate(399,147.04347826086956)\"><title>Fred</title><text dy=\".35em\" text-anchor=\"start\" transform=\"translate(4,41.30434782608695)\" style=\"display: inline;\">Fred</text><line x1=\"0\" x2=\"0\" y1=\"0\" y2=\"82.6086956521739\" style=\"display: inline; stroke: rgb(0, 0, 0);\"/><rect x=\"-5\" y=\"-5\" width=\"10\" style=\"fill: none; visibility: hidden; pointer-events: all;\" height=\"87.6086956521739\"/></g><g class=\"node\" transform=\"translate(399,267.6521739130435)\"><title>Susan</title><text dy=\".35em\" text-anchor=\"start\" transform=\"translate(4,37.17391304347825)\" style=\"display: inline;\">Susan</text><line x1=\"0\" x2=\"0\" y1=\"0\" y2=\"74.3478260869565\" style=\"display: inline; stroke: rgb(0, 0, 0);\"/><rect x=\"-5\" y=\"-5\" width=\"10\" style=\"fill: none; visibility: hidden; pointer-events: all;\" height=\"79.3478260869565\"/></g></g><g class=\"slice-titles\"/></g></svg>"
      }
     },
     "12c2372b0a82497d9bc7f293bf14f435": {
      "model_module": "@jupyter-widgets/base",
      "model_module_version": "1.0.0",
      "model_name": "LayoutModel",
      "state": {
       "height": "500",
       "width": "700"
      }
     },
     "35e111b9f3874fec96c35008d4481aa2": {
      "model_module": "@jupyter-widgets/base",
      "model_module_version": "1.0.0",
      "model_name": "LayoutModel",
      "state": {
       "height": "500",
       "width": "700"
      }
     },
     "3e4d07fbeda94d8593b0c91045524971": {
      "model_module": "jupyter-sankey-widget",
      "model_module_version": "^0.2.2",
      "model_name": "SankeyModel",
      "state": {
       "_model_module_version": "^0.2.2",
       "_view_module_version": "^0.2.2",
       "layout": "IPY_MODEL_12c2372b0a82497d9bc7f293bf14f435",
       "links": [
        {
         "bundles": [
          "0"
         ],
         "color": "#FBB4AE",
         "opacity": 1,
         "source": "farms^farm1",
         "target": "customers^James",
         "time": "*",
         "title": "*",
         "type": "*",
         "value": 3
        },
        {
         "bundles": [
          "0"
         ],
         "color": "#FBB4AE",
         "opacity": 1,
         "source": "farms^farm1",
         "target": "customers^Mary",
         "time": "*",
         "title": "*",
         "type": "*",
         "value": 5
        },
        {
         "bundles": [
          "0"
         ],
         "color": "#FBB4AE",
         "opacity": 1,
         "source": "farms^farm2",
         "target": "customers^Fred",
         "time": "*",
         "title": "*",
         "type": "*",
         "value": 20
        },
        {
         "bundles": [
          "0"
         ],
         "color": "#FBB4AE",
         "opacity": 1,
         "source": "farms^farm2",
         "target": "customers^Susan",
         "time": "*",
         "title": "*",
         "type": "*",
         "value": 5
        },
        {
         "bundles": [
          "0"
         ],
         "color": "#FBB4AE",
         "opacity": 1,
         "source": "farms^farm3",
         "target": "customers^Susan",
         "time": "*",
         "title": "*",
         "type": "*",
         "value": 10
        },
        {
         "bundles": [
          "0"
         ],
         "color": "#FBB4AE",
         "opacity": 1,
         "source": "farms^other",
         "target": "customers^Susan",
         "time": "*",
         "title": "*",
         "type": "*",
         "value": 3
        }
       ],
       "margins": {
        "bottom": 10,
        "left": 130,
        "right": 130,
        "top": 25
       },
       "nodes": [
        {
         "direction": "r",
         "id": "farms^farm1",
         "style": "process",
         "title": "farm1",
         "visibility": "visible"
        },
        {
         "direction": "r",
         "id": "farms^farm2",
         "style": "process",
         "title": "farm2",
         "visibility": "visible"
        },
        {
         "direction": "r",
         "id": "farms^farm3",
         "style": "process",
         "title": "farm3",
         "visibility": "visible"
        },
        {
         "direction": "r",
         "id": "farms^other",
         "style": "process",
         "title": "other",
         "visibility": "visible"
        },
        {
         "direction": "r",
         "id": "customers^James",
         "style": "process",
         "title": "James",
         "visibility": "visible"
        },
        {
         "direction": "r",
         "id": "customers^Mary",
         "style": "process",
         "title": "Mary",
         "visibility": "visible"
        },
        {
         "direction": "r",
         "id": "customers^Fred",
         "style": "process",
         "title": "Fred",
         "visibility": "visible"
        },
        {
         "direction": "r",
         "id": "customers^Susan",
         "style": "process",
         "title": "Susan",
         "visibility": "visible"
        }
       ],
       "order": [
        [
         [
          "farms^farm1",
          "farms^farm2",
          "farms^farm3",
          "farms^other"
         ]
        ],
        [
         [
          "customers^James",
          "customers^Mary",
          "customers^Fred",
          "customers^Susan"
         ]
        ]
       ],
       "png": "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",
       "scale": 5.054347826086956,
       "svg": "<?xml version=\"1.0\" standalone=\"no\"?><!DOCTYPE svg PUBLIC \"-//W3C//DTD SVG 1.1//EN\" \"http://www.w3.org/Graphics/SVG/1.1/DTD/svg11.dtd\"><svg xmlns=\"http://www.w3.org/2000/svg\" width=\"700\" height=\"500\" viewBox=\"0 0 700 500\" style=\"font-family: &quot;Helvetica Neue&quot;,Helvetica,Arial,sans-serif;\"><g class=\"sankey\" transform=\"translate(130,25)\"><g class=\"groups\"/><g class=\"links\"><g class=\"link\" style=\"opacity: 0.8;\"><path d=\"M1,46.5 A0 0 0 0 0 1,46.5 L439,46.5 A0 0 0 0 0 439,46.5 L439,61.663043478260875 A0 0 0 0 0 439,61.663043478260875 L1,61.663043478260875 A0 0 0 0 0 1,61.663043478260875 Z\" style=\"fill: rgb(251, 180, 174);\"/><title>farm1 → James\n*\n3.00</title></g><g class=\"link\" style=\"opacity: 0.8;\"><path d=\"M1,403.3369565217391 A0 0 0 0 0 1,403.3369565217391 L439,403.33695652173907 A0 0 0 0 1 439,403.33695652173907 L439,418.49999999999994 A0 0 0 0 0 439,418.49999999999994 L1,418.5 A0 0 0 0 1 1,418.5 Z\" style=\"fill: rgb(251, 180, 174);\"/><title>other → Susan\n*\n3.00</title></g><g class=\"link\" style=\"opacity: 0.8;\"><path d=\"M1,61.66304347826086 A638.4624824684429 638.4624824684429 0.12960282410307267 0 1 83.51508783006531,67.01763482532203 L359.75103951684486,103.02039854839533 A613.1907433380081 613.1907433380081 0.12960282410307267 0 0 439,108.16304347826087 L439,133.43478260869566 A638.4624824684429 638.4624824684429 0.12960282410307267 0 1 356.4849121699347,128.0801912616345 L80.24896048315517,92.07742753856118 A613.1907433380081 613.1907433380081 0.12960282410307267 0 0 1,86.93478260869564 Z\" style=\"fill: rgb(251, 180, 174);\"/><title>farm1 → Mary\n*\n5.00</title></g><g class=\"link\" style=\"opacity: 0.8;\"><path d=\"M1,234.5217391304348 A336.0116760168305 336.0116760168305 0.25649119890582694 0 1 86.24216571336846,245.51400095153744 L360.16897392427205,317.356215167044 A310.73993688639575 310.73993688639575 0.25649119890582694 0 0 439,327.52173913043475 L439,352.7934782608695 A336.0116760168305 336.0116760168305 0.25649119890582694 0 1 353.7578342866315,341.80121643976685 L79.8310260757279,269.9590022242603 A310.73993688639575 310.73993688639575 0.25649119890582694 0 0 1,259.79347826086956 Z\" style=\"fill: rgb(251, 180, 174);\"/><title>farm2 → Susan\n*\n5.00</title></g><g class=\"link\" style=\"opacity: 0.8;\"><path d=\"M1,306.2934782608696 A651.0983520336621 651.0983520336621 0.129602824103072 0 1 85.1481515035202,311.7540428165285 L361.3841031903001,347.75680653960177 A600.5548737727926 600.5548737727926 0.129602824103072 0 0 439,352.7934782608695 L439,403.336956521739 A651.0983520336621 651.0983520336621 0.129602824103072 0 1 354.8518484964798,397.8763919660801 L78.61589680969992,361.87362824300686 A600.5548737727926 600.5548737727926 0.129602824103072 0 0 1,356.8369565217391 Z\" style=\"fill: rgb(251, 180, 174);\"/><title>farm3 → Susan\n*\n10.0</title></g><g class=\"link\" style=\"opacity: 0.8;\"><path d=\"M1,133.43478260869566 A676.3700911640954 676.3700911640954 0.1296028241030729 0 1 88.41427885043075,139.1072935815503 L364.6502305372099,175.11005730462355 A575.2831346423563 575.2831346423563 0.1296028241030729 0 0 439,179.93478260869566 L439,281.02173913043475 A676.3700911640954 676.3700911640954 0.1296028241030729 0 1 351.5857211495692,275.34922815758017 L75.3497694627901,239.34646443450688 A575.2831346423563 575.2831346423563 0.1296028241030729 0 0 1,234.52173913043478 Z\" style=\"fill: rgb(251, 180, 174);\"/><title>farm2 → Fred\n*\n20.0</title></g></g><g class=\"nodes\"><g class=\"node\" transform=\"translate(0,46.5)\"><title>farm1</title><text dy=\".35em\" text-anchor=\"end\" transform=\"translate(-4,20.217391304347828)\" style=\"display: inline;\">farm1</text><line x1=\"0\" x2=\"0\" y1=\"0\" y2=\"40.434782608695656\" style=\"display: inline; stroke: rgb(136, 136, 136); stroke-width: 4px;\"/><rect x=\"-5\" y=\"-5\" width=\"10\" style=\"fill: none; visibility: hidden; pointer-events: all;\" height=\"45.434782608695656\"/></g><g class=\"node\" transform=\"translate(0,133.43478260869566)\"><title>farm2</title><text dy=\".35em\" text-anchor=\"end\" transform=\"translate(-4,63.17934782608695)\" style=\"display: inline;\">farm2</text><line x1=\"0\" x2=\"0\" y1=\"0\" y2=\"126.3586956521739\" style=\"display: inline; stroke: rgb(136, 136, 136); stroke-width: 4px;\"/><rect x=\"-5\" y=\"-5\" width=\"10\" style=\"fill: none; visibility: hidden; pointer-events: all;\" height=\"131.3586956521739\"/></g><g class=\"node\" transform=\"translate(0,306.29347826086956)\"><title>farm3</title><text dy=\".35em\" text-anchor=\"end\" transform=\"translate(-4,25.27173913043478)\" style=\"display: inline;\">farm3</text><line x1=\"0\" x2=\"0\" y1=\"0\" y2=\"50.54347826086956\" style=\"display: inline; stroke: rgb(136, 136, 136); stroke-width: 4px;\"/><rect x=\"-5\" y=\"-5\" width=\"10\" style=\"fill: none; visibility: hidden; pointer-events: all;\" height=\"55.54347826086956\"/></g><g class=\"node\" transform=\"translate(0,403.3369565217391)\"><title>other</title><text dy=\".35em\" text-anchor=\"end\" transform=\"translate(-4,7.581521739130437)\" style=\"display: inline;\">other</text><line x1=\"0\" x2=\"0\" y1=\"0\" y2=\"15.163043478260875\" style=\"display: inline; stroke: rgb(136, 136, 136); stroke-width: 4px;\"/><rect x=\"-5\" y=\"-5\" width=\"10\" style=\"fill: none; visibility: hidden; pointer-events: all;\" height=\"20.163043478260875\"/></g><g class=\"node\" transform=\"translate(439,46.5)\"><title>James</title><text dy=\".35em\" text-anchor=\"start\" transform=\"translate(4,7.581521739130434)\" style=\"display: inline;\">James</text><line x1=\"0\" x2=\"0\" y1=\"0\" y2=\"15.163043478260867\" style=\"display: inline; stroke: rgb(136, 136, 136); stroke-width: 4px;\"/><rect x=\"-5\" y=\"-5\" width=\"10\" style=\"fill: none; visibility: hidden; pointer-events: all;\" height=\"20.163043478260867\"/></g><g class=\"node\" transform=\"translate(439,108.16304347826087)\"><title>Mary</title><text dy=\".35em\" text-anchor=\"start\" transform=\"translate(4,12.63586956521739)\" style=\"display: inline;\">Mary</text><line x1=\"0\" x2=\"0\" y1=\"0\" y2=\"25.27173913043478\" style=\"display: inline; stroke: rgb(136, 136, 136); stroke-width: 4px;\"/><rect x=\"-5\" y=\"-5\" width=\"10\" style=\"fill: none; visibility: hidden; pointer-events: all;\" height=\"30.27173913043478\"/></g><g class=\"node\" transform=\"translate(439,179.93478260869566)\"><title>Fred</title><text dy=\".35em\" text-anchor=\"start\" transform=\"translate(4,50.54347826086955)\" style=\"display: inline;\">Fred</text><line x1=\"0\" x2=\"0\" y1=\"0\" y2=\"101.0869565217391\" style=\"display: inline; stroke: rgb(136, 136, 136); stroke-width: 4px;\"/><rect x=\"-5\" y=\"-5\" width=\"10\" style=\"fill: none; visibility: hidden; pointer-events: all;\" height=\"106.0869565217391\"/></g><g class=\"node\" transform=\"translate(439,327.52173913043475)\"><title>Susan</title><text dy=\".35em\" text-anchor=\"start\" transform=\"translate(4,45.489130434782595)\" style=\"display: inline;\">Susan</text><line x1=\"0\" x2=\"0\" y1=\"0\" y2=\"90.97826086956519\" style=\"display: inline; stroke: rgb(136, 136, 136); stroke-width: 4px;\"/><rect x=\"-5\" y=\"-5\" width=\"10\" style=\"fill: none; visibility: hidden; pointer-events: all;\" height=\"95.97826086956519\"/></g></g><g class=\"slice-titles\"/></g></svg>"
      }
     },
     "55785a167d724bac81ccbdc4682bb5ad": {
      "model_module": "jupyter-sankey-widget",
      "model_module_version": "^0.2.2",
      "model_name": "SankeyModel",
      "state": {
       "_model_module_version": "^0.2.2",
       "_view_module_version": "^0.2.2",
       "layout": "IPY_MODEL_7c4f133cbcf24a8a9876dc2b4115294d",
       "links": [
        {
         "bundles": [
          "0"
         ],
         "color": "#FBB4AE",
         "opacity": 1,
         "source": "farms^*",
         "target": "customers^*",
         "time": "*",
         "title": "*",
         "type": "*",
         "value": 46
        }
       ],
       "margins": {
        "bottom": 10,
        "left": 130,
        "right": 130,
        "top": 25
       },
       "nodes": [
        {
         "direction": "r",
         "id": "farms^*",
         "style": "process",
         "title": "farms",
         "visibility": "visible"
        },
        {
         "direction": "r",
         "id": "customers^*",
         "style": "process",
         "title": "customers",
         "visibility": "visible"
        }
       ],
       "order": [
        [
         [
          "farms^*"
         ]
        ],
        [
         [
          "customers^*"
         ]
        ]
       ],
       "png": "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",
       "scale": 5.054347826086956,
       "svg": "<?xml version=\"1.0\" standalone=\"no\"?><!DOCTYPE svg PUBLIC \"-//W3C//DTD SVG 1.1//EN\" \"http://www.w3.org/Graphics/SVG/1.1/DTD/svg11.dtd\"><svg xmlns=\"http://www.w3.org/2000/svg\" width=\"700\" height=\"500\" viewBox=\"0 0 700 500\" style=\"font-family: &quot;Helvetica Neue&quot;,Helvetica,Arial,sans-serif;\"><g class=\"sankey\" transform=\"translate(130,25)\"><g class=\"groups\"/><g class=\"links\"><g class=\"link\" style=\"opacity: 0.8;\"><path d=\"M1,116.25000000000001 A0 0 0 0 0 1,116.25000000000001 L439,116.25000000000001 A0 0 0 0 0 439,116.25000000000001 L439,348.75 A0 0 0 0 0 439,348.75 L1,348.75 A0 0 0 0 0 1,348.75 Z\" style=\"fill: rgb(251, 180, 174);\"/><title>farms → customers\n*\n46.0</title></g></g><g class=\"nodes\"><g class=\"node\" transform=\"translate(0,116.25000000000001)\"><title>farms</title><text dy=\".35em\" text-anchor=\"end\" transform=\"translate(-4,116.25)\" style=\"display: inline;\">farms</text><line x1=\"0\" x2=\"0\" y1=\"0\" y2=\"232.5\" style=\"display: inline; stroke: rgb(136, 136, 136); stroke-width: 4px;\"/><rect x=\"-5\" y=\"-5\" width=\"10\" style=\"fill: none; visibility: hidden; pointer-events: all;\" height=\"237.5\"/></g><g class=\"node\" transform=\"translate(439,116.25000000000001)\"><title>customers</title><text dy=\".35em\" text-anchor=\"start\" transform=\"translate(4,116.25)\" style=\"display: inline;\">customers</text><line x1=\"0\" x2=\"0\" y1=\"0\" y2=\"232.5\" style=\"display: inline; stroke: rgb(136, 136, 136); stroke-width: 4px;\"/><rect x=\"-5\" y=\"-5\" width=\"10\" style=\"fill: none; visibility: hidden; pointer-events: all;\" height=\"237.5\"/></g></g><g class=\"slice-titles\"/></g></svg>"
      }
     },
     "6b3c22707266434195adaebf25fce576": {
      "model_module": "@jupyter-widgets/base",
      "model_module_version": "1.0.0",
      "model_name": "LayoutModel",
      "state": {
       "height": "500",
       "width": "700"
      }
     },
     "7480b5dcae8f4cafb5ff0ee93994a35b": {
      "model_module": "@jupyter-widgets/base",
      "model_module_version": "1.0.0",
      "model_name": "LayoutModel",
      "state": {
       "height": "500",
       "width": "700"
      }
     },
     "75929fca58a7453bb27985537172781a": {
      "model_module": "jupyter-sankey-widget",
      "model_module_version": "^0.2.2",
      "model_name": "SankeyModel",
      "state": {
       "_model_module_version": "^0.2.2",
       "_view_module_version": "^0.2.2",
       "layout": "IPY_MODEL_d5e07aca4e97411d8852bbfeccdec5ed",
       "links": [
        {
         "bundles": [
          "0"
         ],
         "color": "#FBB4AE",
         "opacity": 1,
         "source": "farms^farm1",
         "target": "customers^Men",
         "time": "*",
         "title": "*",
         "type": "*",
         "value": 3
        },
        {
         "bundles": [
          "0"
         ],
         "color": "#FBB4AE",
         "opacity": 1,
         "source": "farms^farm1",
         "target": "customers^Women",
         "time": "*",
         "title": "*",
         "type": "*",
         "value": 5
        },
        {
         "bundles": [
          "0"
         ],
         "color": "#FBB4AE",
         "opacity": 1,
         "source": "farms^farm2",
         "target": "customers^Men",
         "time": "*",
         "title": "*",
         "type": "*",
         "value": 20
        },
        {
         "bundles": [
          "0"
         ],
         "color": "#FBB4AE",
         "opacity": 1,
         "source": "farms^farm2",
         "target": "customers^Women",
         "time": "*",
         "title": "*",
         "type": "*",
         "value": 5
        },
        {
         "bundles": [
          "0"
         ],
         "color": "#FBB4AE",
         "opacity": 1,
         "source": "farms^farm3",
         "target": "customers^Women",
         "time": "*",
         "title": "*",
         "type": "*",
         "value": 10
        },
        {
         "bundles": [
          "0"
         ],
         "color": "#FBB4AE",
         "opacity": 1,
         "source": "farms^other",
         "target": "customers^Women",
         "time": "*",
         "title": "*",
         "type": "*",
         "value": 3
        }
       ],
       "margins": {
        "bottom": 10,
        "left": 130,
        "right": 130,
        "top": 25
       },
       "nodes": [
        {
         "direction": "r",
         "id": "farms^farm1",
         "style": "process",
         "title": "farm1",
         "visibility": "visible"
        },
        {
         "direction": "r",
         "id": "farms^farm2",
         "style": "process",
         "title": "farm2",
         "visibility": "visible"
        },
        {
         "direction": "r",
         "id": "farms^farm3",
         "style": "process",
         "title": "farm3",
         "visibility": "visible"
        },
        {
         "direction": "r",
         "id": "farms^other",
         "style": "process",
         "title": "other",
         "visibility": "visible"
        },
        {
         "direction": "r",
         "id": "customers^Men",
         "style": "process",
         "title": "Men",
         "visibility": "visible"
        },
        {
         "direction": "r",
         "id": "customers^Women",
         "style": "process",
         "title": "Women",
         "visibility": "visible"
        }
       ],
       "order": [
        [
         [
          "farms^farm1",
          "farms^farm2",
          "farms^farm3",
          "farms^other"
         ]
        ],
        [
         [
          "customers^Men",
          "customers^Women"
         ]
        ]
       ],
       "png": "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",
       "scale": 5.054347826086956,
       "svg": "<?xml version=\"1.0\" standalone=\"no\"?><!DOCTYPE svg PUBLIC \"-//W3C//DTD SVG 1.1//EN\" \"http://www.w3.org/Graphics/SVG/1.1/DTD/svg11.dtd\"><svg xmlns=\"http://www.w3.org/2000/svg\" width=\"700\" height=\"500\" viewBox=\"0 0 700 500\" style=\"font-family: &quot;Helvetica Neue&quot;,Helvetica,Arial,sans-serif;\"><g class=\"sankey\" transform=\"translate(130,25)\"><g class=\"groups\"/><g class=\"links\"><g class=\"link\" style=\"opacity: 0.8;\"><path d=\"M1,46.5 A0 0 0 0 0 1,46.5 L439,46.5 A0 0 0 0 0 439,46.5 L439,61.663043478260875 A0 0 0 0 0 439,61.663043478260875 L1,61.663043478260875 A0 0 0 0 0 1,61.663043478260875 Z\" style=\"fill: rgb(251, 180, 174);\"/><title>farm1 → Men\n*\n3.00</title></g><g class=\"link\" style=\"opacity: 0.8;\"><path d=\"M1,403.3369565217391 A0 0 0 0 0 1,403.3369565217391 L439,403.33695652173907 A0 0 0 0 1 439,403.33695652173907 L439,418.49999999999994 A0 0 0 0 0 439,418.49999999999994 L1,418.5 A0 0 0 0 1 1,418.5 Z\" style=\"fill: rgb(251, 180, 174);\"/><title>other → Women\n*\n3.00</title></g><g class=\"link\" style=\"opacity: 0.8;\"><path d=\"M1,61.66304347826086 A168.33388864662277 168.33388864662277 0.6176960448053634 0 1 98.49199917713621,92.76862541180468 L356.14434285902564,275.8142570302259 A143.06214951618796 143.06214951618796 0.6176960448053634 0 0 439,302.25 L439,327.52173913043475 A168.33388864662277 168.33388864662277 0.6176960448053634 0 1 341.5080008228638,296.41615719689094 L83.85565714097437,113.37052557846967 A143.06214951618796 143.06214951618796 0.6176960448053634 0 0 1,86.93478260869564 Z\" style=\"fill: rgb(251, 180, 174);\"/><title>farm1 → Women\n*\n5.00</title></g><g class=\"link\" style=\"opacity: 0.8;\"><path d=\"M1,234.5217391304348 A336.0116760168305 336.0116760168305 0.25649119890582694 0 1 86.24216571336846,245.51400095153744 L360.16897392427205,317.356215167044 A310.73993688639575 310.73993688639575 0.25649119890582694 0 0 439,327.52173913043475 L439,352.7934782608695 A336.0116760168305 336.0116760168305 0.25649119890582694 0 1 353.7578342866315,341.80121643976685 L79.8310260757279,269.9590022242603 A310.73993688639575 310.73993688639575 0.25649119890582694 0 0 1,259.79347826086956 Z\" style=\"fill: rgb(251, 180, 174);\"/><title>farm2 → Women\n*\n5.00</title></g><g class=\"link\" style=\"opacity: 0.8;\"><path d=\"M1,306.2934782608696 A651.0983520336621 651.0983520336621 0.129602824103072 0 1 85.1481515035202,311.7540428165285 L361.3841031903001,347.75680653960177 A600.5548737727926 600.5548737727926 0.129602824103072 0 0 439,352.7934782608695 L439,403.336956521739 A651.0983520336621 651.0983520336621 0.129602824103072 0 1 354.8518484964798,397.8763919660801 L78.61589680969992,361.87362824300686 A600.5548737727926 600.5548737727926 0.129602824103072 0 0 1,356.8369565217391 Z\" style=\"fill: rgb(251, 180, 174);\"/><title>farm3 → Women\n*\n10.0</title></g><g class=\"link\" style=\"opacity: 0.8;\"><path d=\"M1,133.43478260869566 A361.1683980107856 361.1683980107856 0.19906383179460874 0 0 72.42167794842551,126.30247829558465 L347.5882008415052,70.79159923521425 A462.25535453252473 462.25535453252473 0.19906383179460874 0 1 439,61.663043478260875 L439,162.75 A361.1683980107856 361.1683980107856 0.19906383179460874 0 0 367.57832205157445,169.882304313111 L92.41179915849479,225.3931833734814 A462.25535453252473 462.25535453252473 0.19906383179460874 0 1 1,234.52173913043478 Z\" style=\"fill: rgb(251, 180, 174);\"/><title>farm2 → Men\n*\n20.0</title></g></g><g class=\"nodes\"><g class=\"node\" transform=\"translate(0,46.5)\"><title>farm1</title><text dy=\".35em\" text-anchor=\"end\" transform=\"translate(-4,20.217391304347828)\" style=\"display: inline;\">farm1</text><line x1=\"0\" x2=\"0\" y1=\"0\" y2=\"40.434782608695656\" style=\"display: inline; stroke: rgb(136, 136, 136); stroke-width: 4px;\"/><rect x=\"-5\" y=\"-5\" width=\"10\" style=\"fill: none; visibility: hidden; pointer-events: all;\" height=\"45.434782608695656\"/></g><g class=\"node\" transform=\"translate(0,133.43478260869566)\"><title>farm2</title><text dy=\".35em\" text-anchor=\"end\" transform=\"translate(-4,63.17934782608695)\" style=\"display: inline;\">farm2</text><line x1=\"0\" x2=\"0\" y1=\"0\" y2=\"126.3586956521739\" style=\"display: inline; stroke: rgb(136, 136, 136); stroke-width: 4px;\"/><rect x=\"-5\" y=\"-5\" width=\"10\" style=\"fill: none; visibility: hidden; pointer-events: all;\" height=\"131.3586956521739\"/></g><g class=\"node\" transform=\"translate(0,306.29347826086956)\"><title>farm3</title><text dy=\".35em\" text-anchor=\"end\" transform=\"translate(-4,25.27173913043478)\" style=\"display: inline;\">farm3</text><line x1=\"0\" x2=\"0\" y1=\"0\" y2=\"50.54347826086956\" style=\"display: inline; stroke: rgb(136, 136, 136); stroke-width: 4px;\"/><rect x=\"-5\" y=\"-5\" width=\"10\" style=\"fill: none; visibility: hidden; pointer-events: all;\" height=\"55.54347826086956\"/></g><g class=\"node\" transform=\"translate(0,403.3369565217391)\"><title>other</title><text dy=\".35em\" text-anchor=\"end\" transform=\"translate(-4,7.581521739130437)\" style=\"display: inline;\">other</text><line x1=\"0\" x2=\"0\" y1=\"0\" y2=\"15.163043478260875\" style=\"display: inline; stroke: rgb(136, 136, 136); stroke-width: 4px;\"/><rect x=\"-5\" y=\"-5\" width=\"10\" style=\"fill: none; visibility: hidden; pointer-events: all;\" height=\"20.163043478260875\"/></g><g class=\"node\" transform=\"translate(439,46.5)\"><title>Men</title><text dy=\".35em\" text-anchor=\"start\" transform=\"translate(4,58.125)\" style=\"display: inline;\">Men</text><line x1=\"0\" x2=\"0\" y1=\"0\" y2=\"116.25\" style=\"display: inline; stroke: rgb(136, 136, 136); stroke-width: 4px;\"/><rect x=\"-5\" y=\"-5\" width=\"10\" style=\"fill: none; visibility: hidden; pointer-events: all;\" height=\"121.25\"/></g><g class=\"node\" transform=\"translate(439,302.25)\"><title>Women</title><text dy=\".35em\" text-anchor=\"start\" transform=\"translate(4,58.125)\" style=\"display: inline;\">Women</text><line x1=\"0\" x2=\"0\" y1=\"0\" y2=\"116.25\" style=\"display: inline; stroke: rgb(136, 136, 136); stroke-width: 4px;\"/><rect x=\"-5\" y=\"-5\" width=\"10\" style=\"fill: none; visibility: hidden; pointer-events: all;\" height=\"121.25\"/></g></g><g class=\"slice-titles\"/></g></svg>"
      }
     },
     "7c4f133cbcf24a8a9876dc2b4115294d": {
      "model_module": "@jupyter-widgets/base",
      "model_module_version": "1.0.0",
      "model_name": "LayoutModel",
      "state": {
       "height": "500",
       "width": "700"
      }
     },
     "8d8bea5e5b5a41998c7a5654b764220c": {
      "model_module": "@jupyter-widgets/base",
      "model_module_version": "1.0.0",
      "model_name": "LayoutModel",
      "state": {}
     },
     "937a6a5449434bbd92ab91b2260e7ab3": {
      "model_module": "jupyter-sankey-widget",
      "model_module_version": "^0.2.2",
      "model_name": "SankeyModel",
      "state": {
       "_model_module_version": "^0.2.2",
       "_view_module_version": "^0.2.2",
       "layout": "IPY_MODEL_6b3c22707266434195adaebf25fce576",
       "links": [
        {
         "bundles": [
          "0"
         ],
         "color": "yellowgreen",
         "opacity": 1,
         "source": "farms^farm1",
         "target": "waypoint^apples",
         "time": "*",
         "title": "apples",
         "type": "apples",
         "value": 8
        },
        {
         "bundles": [
          "0"
         ],
         "color": "yellowgreen",
         "opacity": 1,
         "source": "farms^farm2",
         "target": "waypoint^apples",
         "time": "*",
         "title": "apples",
         "type": "apples",
         "value": 10
        },
        {
         "bundles": [
          "0"
         ],
         "color": "gold",
         "opacity": 1,
         "source": "farms^farm2",
         "target": "waypoint^bananas",
         "time": "*",
         "title": "bananas",
         "type": "bananas",
         "value": 15
        },
        {
         "bundles": [
          "0"
         ],
         "color": "yellowgreen",
         "opacity": 1,
         "source": "farms^farm3",
         "target": "waypoint^apples",
         "time": "*",
         "title": "apples",
         "type": "apples",
         "value": 10
        },
        {
         "bundles": [
          "0"
         ],
         "color": "gold",
         "opacity": 1,
         "source": "farms^other",
         "target": "waypoint^bananas",
         "time": "*",
         "title": "bananas",
         "type": "bananas",
         "value": 3
        },
        {
         "bundles": [
          "0"
         ],
         "color": "yellowgreen",
         "opacity": 1,
         "source": "waypoint^apples",
         "target": "customers^Men",
         "time": "*",
         "title": "apples",
         "type": "apples",
         "value": 13
        },
        {
         "bundles": [
          "0"
         ],
         "color": "yellowgreen",
         "opacity": 1,
         "source": "waypoint^apples",
         "target": "customers^Women",
         "time": "*",
         "title": "apples",
         "type": "apples",
         "value": 15
        },
        {
         "bundles": [
          "0"
         ],
         "color": "gold",
         "opacity": 1,
         "source": "waypoint^bananas",
         "target": "customers^Men",
         "time": "*",
         "title": "bananas",
         "type": "bananas",
         "value": 10
        },
        {
         "bundles": [
          "0"
         ],
         "color": "gold",
         "opacity": 1,
         "source": "waypoint^bananas",
         "target": "customers^Women",
         "time": "*",
         "title": "bananas",
         "type": "bananas",
         "value": 8
        }
       ],
       "margins": {
        "bottom": 10,
        "left": 130,
        "right": 130,
        "top": 25
       },
       "nodes": [
        {
         "direction": "r",
         "id": "farms^farm1",
         "style": "process",
         "title": "farm1",
         "visibility": "visible"
        },
        {
         "direction": "r",
         "id": "farms^farm2",
         "style": "process",
         "title": "farm2",
         "visibility": "visible"
        },
        {
         "direction": "r",
         "id": "farms^farm3",
         "style": "process",
         "title": "farm3",
         "visibility": "visible"
        },
        {
         "direction": "r",
         "id": "farms^other",
         "style": "process",
         "title": "other",
         "visibility": "visible"
        },
        {
         "direction": "r",
         "id": "waypoint^apples",
         "style": "group",
         "title": "apples",
         "visibility": "visible"
        },
        {
         "direction": "r",
         "id": "waypoint^bananas",
         "style": "group",
         "title": "bananas",
         "visibility": "visible"
        },
        {
         "direction": "r",
         "id": "customers^Men",
         "style": "process",
         "title": "Men",
         "visibility": "visible"
        },
        {
         "direction": "r",
         "id": "customers^Women",
         "style": "process",
         "title": "Women",
         "visibility": "visible"
        }
       ],
       "order": [
        [
         [
          "farms^farm1",
          "farms^farm2",
          "farms^farm3",
          "farms^other"
         ]
        ],
        [
         [
          "waypoint^apples",
          "waypoint^bananas"
         ]
        ],
        [
         [
          "customers^Men",
          "customers^Women"
         ]
        ]
       ],
       "png": "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",
       "scale": 5.054347826086956,
       "svg": "<?xml version=\"1.0\" standalone=\"no\"?><!DOCTYPE svg PUBLIC \"-//W3C//DTD SVG 1.1//EN\" \"http://www.w3.org/Graphics/SVG/1.1/DTD/svg11.dtd\"><svg xmlns=\"http://www.w3.org/2000/svg\" width=\"700\" height=\"500\" viewBox=\"0 0 700 500\" style=\"font-family: &quot;Helvetica Neue&quot;,Helvetica,Arial,sans-serif;\"><g class=\"sankey\" transform=\"translate(130,25)\"><g class=\"groups\"/><g class=\"links\"><g class=\"link\" style=\"opacity: 0.8;\"><path d=\"M1,403.3369565217391 A0 0 0 0 0 1,403.3369565217391 L219.5,403.3369565217391 A0 0 0 0 0 219.5,403.3369565217391 L219.5,418.5 A0 0 0 0 0 219.5,418.5 L1,418.5 A0 0 0 0 0 1,418.5 Z\" style=\"fill: rgb(255, 215, 0);\"/><title>other → bananas\nbananas\n3.00</title></g><g class=\"link\" style=\"opacity: 0.8;\"><path d=\"M1,46.5 A0 0 0 0 0 1,46.5 L219.5,46.5 A0 0 0 0 0 219.5,46.5 L219.5,86.93478260869566 A0 0 0 0 0 219.5,86.93478260869566 L1,86.93478260869566 A0 0 0 0 0 1,86.93478260869566 Z\" style=\"fill: rgb(154, 205, 50);\"/><title>farm1 → apples\napples\n8.00</title></g><g class=\"link\" style=\"opacity: 0.8;\"><path d=\"M220.5,378.0652173913043 A0 0 0 0 1 220.5,378.0652173913043 L439,378.0652173913044 A0 0 0 0 0 439,378.0652173913044 L439,418.5 A0 0 0 0 1 439,418.5 L220.5,418.49999999999994 A0 0 0 0 0 220.5,418.49999999999994 Z\" style=\"fill: rgb(255, 215, 0);\"/><title>bananas → Women\nbananas\n8.00</title></g><g class=\"link\" style=\"opacity: 0.8;\"><path d=\"M1,133.43478260869566 A135.71051893408134 135.71051893408134 0.2570618333205066 0 0 35.503046605921135,128.97549118989238 L172.14677788994416,93.05487453622473 A186.2539971949509 186.2539971949509 0.2570618333205066 0 1 219.5,86.93478260869566 L219.5,137.47826086956522 A135.71051893408134 135.71051893408134 0.2570618333205066 0 0 184.99695339407887,141.9375522883685 L48.35322211005586,177.85816894203614 A186.2539971949509 186.2539971949509 0.2570618333205066 0 1 1,183.97826086956522 Z\" style=\"fill: rgb(154, 205, 50);\"/><title>farm2 → apples\napples\n10.0</title></g><g class=\"link\" style=\"opacity: 0.8;\"><path d=\"M1,306.2934782608696 A42.47170438225932 42.47170438225932 0.8112018026903887 0 0 31.79688233285298,293.06895684911933 L152.05326865983227,166.4406322265229 A93.01518264312888 93.01518264312888 0.8112018026903887 0 1 219.5,137.47826086956522 L219.5,188.02173913043478 A42.47170438225932 42.47170438225932 0.8112018026903887 0 0 188.703117667147,201.24626054218504 L68.44673134016773,327.8745851647815 A93.01518264312888 93.01518264312888 0.8112018026903887 0 1 1,356.8369565217391 Z\" style=\"fill: rgb(154, 205, 50);\"/><title>farm3 → apples\napples\n10.0</title></g><g class=\"link\" style=\"opacity: 0.8;\"><path d=\"M220.5,327.52173913043475 A40.2853269100343 40.2853269100343 0.9621209118955503 0 0 253.5503283515888,310.2708073741808 L364.4834932484279,151.10111785360476 A90.82880517090386 90.82880517090386 0.9621209118955503 0 1 439,112.20652173913041 L439,162.74999999999997 A40.2853269100343 40.2853269100343 0.9621209118955503 0 0 405.9496716484112,180.00093175625392 L295.0165067515721,339.17062127682993 A90.82880517090386 90.82880517090386 0.9621209118955503 0 1 220.5,378.06521739130426 Z\" style=\"fill: rgb(255, 215, 0);\"/><title>bananas → Men\nbananas\n10.0</title></g><g class=\"link\" style=\"opacity: 0.8;\"><path d=\"M220.5,46.50000000000001 A0 0 0 0 0 220.5,46.50000000000001 L439,46.50000000000001 A0 0 0 0 0 439,46.50000000000001 L439,112.20652173913044 A0 0 0 0 0 439,112.20652173913044 L220.5,112.20652173913044 A0 0 0 0 0 220.5,112.20652173913044 Z\" style=\"fill: rgb(154, 205, 50);\"/><title>apples → Men\napples\n13.0</title></g><g class=\"link\" style=\"opacity: 0.8;\"><path d=\"M1,183.9782608695652 A109.32880558244277 109.32880558244277 0.7157217368298148 0 1 72.73743227236537,210.805378341695 L197.5096494216907,319.2981702134737 A33.513588191138425 33.513588191138425 0.7157217368298148 0 0 219.5,327.52173913043475 L219.5,403.3369565217391 A109.32880558244277 109.32880558244277 0.7157217368298148 0 1 147.76256772763463,376.5098390496093 L22.990350578309307,268.0170471778306 A33.513588191138425 33.513588191138425 0.7157217368298148 0 0 1,259.79347826086956 Z\" style=\"fill: rgb(255, 215, 0);\"/><title>farm2 → bananas\nbananas\n15.0</title></g><g class=\"link\" style=\"opacity: 0.8;\"><path d=\"M220.5,112.20652173913042 A104.09675740801528 104.09675740801528 0.8838891257827897 0 1 300.9887583891641,150.2904419422963 L417.1324020271236,291.9031655736654 A28.281540016710935 28.281540016710935 0.8838891257827897 0 0 439,302.25 L439,378.0652173913044 A104.09675740801528 104.09675740801528 0.8838891257827897 0 1 358.5112416108359,339.9812971881385 L242.3675979728764,198.36857355676943 A28.281540016710935 28.281540016710935 0.8838891257827897 0 0 220.5,188.02173913043475 Z\" style=\"fill: rgb(154, 205, 50);\"/><title>apples → Women\napples\n15.0</title></g></g><g class=\"nodes\"><g class=\"node\" transform=\"translate(0,46.5)\"><title>farm1</title><text dy=\".35em\" text-anchor=\"end\" transform=\"translate(-4,20.217391304347828)\" style=\"display: inline;\">farm1</text><line x1=\"0\" x2=\"0\" y1=\"0\" y2=\"40.434782608695656\" style=\"display: inline; stroke: rgb(136, 136, 136); stroke-width: 4px;\"/><rect x=\"-5\" y=\"-5\" width=\"10\" style=\"fill: none; visibility: hidden; pointer-events: all;\" height=\"45.434782608695656\"/></g><g class=\"node\" transform=\"translate(0,133.43478260869566)\"><title>farm2</title><text dy=\".35em\" text-anchor=\"end\" transform=\"translate(-4,63.17934782608695)\" style=\"display: inline;\">farm2</text><line x1=\"0\" x2=\"0\" y1=\"0\" y2=\"126.3586956521739\" style=\"display: inline; stroke: rgb(136, 136, 136); stroke-width: 4px;\"/><rect x=\"-5\" y=\"-5\" width=\"10\" style=\"fill: none; visibility: hidden; pointer-events: all;\" height=\"131.3586956521739\"/></g><g class=\"node\" transform=\"translate(0,306.29347826086956)\"><title>farm3</title><text dy=\".35em\" text-anchor=\"end\" transform=\"translate(-4,25.27173913043478)\" style=\"display: inline;\">farm3</text><line x1=\"0\" x2=\"0\" y1=\"0\" y2=\"50.54347826086956\" style=\"display: inline; stroke: rgb(136, 136, 136); stroke-width: 4px;\"/><rect x=\"-5\" y=\"-5\" width=\"10\" style=\"fill: none; visibility: hidden; pointer-events: all;\" height=\"55.54347826086956\"/></g><g class=\"node\" transform=\"translate(0,403.3369565217391)\"><title>other</title><text dy=\".35em\" text-anchor=\"end\" transform=\"translate(-4,7.581521739130437)\" style=\"display: inline;\">other</text><line x1=\"0\" x2=\"0\" y1=\"0\" y2=\"15.163043478260875\" style=\"display: inline; stroke: rgb(136, 136, 136); stroke-width: 4px;\"/><rect x=\"-5\" y=\"-5\" width=\"10\" style=\"fill: none; visibility: hidden; pointer-events: all;\" height=\"20.163043478260875\"/></g><g class=\"node\" transform=\"translate(219.5,46.5)\"><title>apples</title><text dy=\".35em\" text-anchor=\"start\" transform=\"translate(-4,-10)\" style=\"display: inline;\">apples</text><line x1=\"0\" x2=\"0\" y1=\"-5\" y2=\"141.52173913043478\" style=\"display: inline; stroke: rgb(0, 0, 0);\"/><rect x=\"-5\" y=\"-5\" width=\"10\" style=\"fill: none; visibility: hidden; pointer-events: all;\" height=\"146.52173913043478\"/></g><g class=\"node\" transform=\"translate(219.5,327.52173913043475)\"><title>bananas</title><text dy=\".35em\" text-anchor=\"start\" transform=\"translate(-4,-10)\" style=\"display: inline;\">bananas</text><line x1=\"0\" x2=\"0\" y1=\"-5\" y2=\"90.97826086956519\" style=\"display: inline; stroke: rgb(0, 0, 0);\"/><rect x=\"-5\" y=\"-5\" width=\"10\" style=\"fill: none; visibility: hidden; pointer-events: all;\" height=\"95.97826086956519\"/></g><g class=\"node\" transform=\"translate(439,46.5)\"><title>Men</title><text dy=\".35em\" text-anchor=\"start\" transform=\"translate(4,58.125)\" style=\"display: inline;\">Men</text><line x1=\"0\" x2=\"0\" y1=\"0\" y2=\"116.25\" style=\"display: inline; stroke: rgb(136, 136, 136); stroke-width: 4px;\"/><rect x=\"-5\" y=\"-5\" width=\"10\" style=\"fill: none; visibility: hidden; pointer-events: all;\" height=\"121.25\"/></g><g class=\"node\" transform=\"translate(439,302.25)\"><title>Women</title><text dy=\".35em\" text-anchor=\"start\" transform=\"translate(4,58.125)\" style=\"display: inline;\">Women</text><line x1=\"0\" x2=\"0\" y1=\"0\" y2=\"116.25\" style=\"display: inline; stroke: rgb(136, 136, 136); stroke-width: 4px;\"/><rect x=\"-5\" y=\"-5\" width=\"10\" style=\"fill: none; visibility: hidden; pointer-events: all;\" height=\"121.25\"/></g></g><g class=\"slice-titles\"/></g></svg>"
      }
     },
     "ab7980e6b6e94a13a8ccf27d569b0229": {
      "model_module": "jupyter-sankey-widget",
      "model_module_version": "^0.2.2",
      "model_name": "SankeyModel",
      "state": {
       "_model_module_version": "^0.2.2",
       "_view_module_version": "^0.2.2",
       "layout": "IPY_MODEL_7480b5dcae8f4cafb5ff0ee93994a35b",
       "links": [
        {
         "bundles": [
          "0"
         ],
         "color": "yellowgreen",
         "opacity": 1,
         "source": "farms^farm1",
         "target": "waypoint^*",
         "time": "*",
         "title": "apples",
         "type": "apples",
         "value": 8
        },
        {
         "bundles": [
          "0"
         ],
         "color": "yellowgreen",
         "opacity": 1,
         "source": "farms^farm2",
         "target": "waypoint^*",
         "time": "*",
         "title": "apples",
         "type": "apples",
         "value": 10
        },
        {
         "bundles": [
          "0"
         ],
         "color": "gold",
         "opacity": 1,
         "source": "farms^farm2",
         "target": "waypoint^*",
         "time": "*",
         "title": "bananas",
         "type": "bananas",
         "value": 15
        },
        {
         "bundles": [
          "0"
         ],
         "color": "yellowgreen",
         "opacity": 1,
         "source": "farms^farm3",
         "target": "waypoint^*",
         "time": "*",
         "title": "apples",
         "type": "apples",
         "value": 10
        },
        {
         "bundles": [
          "0"
         ],
         "color": "gold",
         "opacity": 1,
         "source": "farms^other",
         "target": "waypoint^*",
         "time": "*",
         "title": "bananas",
         "type": "bananas",
         "value": 3
        },
        {
         "bundles": [
          "0"
         ],
         "color": "yellowgreen",
         "opacity": 1,
         "source": "waypoint^*",
         "target": "customers^Men",
         "time": "*",
         "title": "apples",
         "type": "apples",
         "value": 13
        },
        {
         "bundles": [
          "0"
         ],
         "color": "gold",
         "opacity": 1,
         "source": "waypoint^*",
         "target": "customers^Men",
         "time": "*",
         "title": "bananas",
         "type": "bananas",
         "value": 10
        },
        {
         "bundles": [
          "0"
         ],
         "color": "yellowgreen",
         "opacity": 1,
         "source": "waypoint^*",
         "target": "customers^Women",
         "time": "*",
         "title": "apples",
         "type": "apples",
         "value": 15
        },
        {
         "bundles": [
          "0"
         ],
         "color": "gold",
         "opacity": 1,
         "source": "waypoint^*",
         "target": "customers^Women",
         "time": "*",
         "title": "bananas",
         "type": "bananas",
         "value": 8
        }
       ],
       "margins": {
        "bottom": 10,
        "left": 130,
        "right": 130,
        "top": 25
       },
       "nodes": [
        {
         "direction": "r",
         "id": "farms^farm1",
         "style": "process",
         "title": "farm1",
         "visibility": "visible"
        },
        {
         "direction": "r",
         "id": "farms^farm2",
         "style": "process",
         "title": "farm2",
         "visibility": "visible"
        },
        {
         "direction": "r",
         "id": "farms^farm3",
         "style": "process",
         "title": "farm3",
         "visibility": "visible"
        },
        {
         "direction": "r",
         "id": "farms^other",
         "style": "process",
         "title": "other",
         "visibility": "visible"
        },
        {
         "direction": "r",
         "id": "waypoint^*",
         "style": "group",
         "title": "waypoint",
         "visibility": "visible"
        },
        {
         "direction": "r",
         "id": "customers^Men",
         "style": "process",
         "title": "Men",
         "visibility": "visible"
        },
        {
         "direction": "r",
         "id": "customers^Women",
         "style": "process",
         "title": "Women",
         "visibility": "visible"
        }
       ],
       "order": [
        [
         [
          "farms^farm1",
          "farms^farm2",
          "farms^farm3",
          "farms^other"
         ]
        ],
        [
         [
          "waypoint^*"
         ]
        ],
        [
         [
          "customers^Men",
          "customers^Women"
         ]
        ]
       ],
       "png": "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",
       "scale": 5.054347826086956,
       "svg": "<?xml version=\"1.0\" standalone=\"no\"?><!DOCTYPE svg PUBLIC \"-//W3C//DTD SVG 1.1//EN\" \"http://www.w3.org/Graphics/SVG/1.1/DTD/svg11.dtd\"><svg xmlns=\"http://www.w3.org/2000/svg\" width=\"700\" height=\"500\" viewBox=\"0 0 700 500\" style=\"font-family: &quot;Helvetica Neue&quot;,Helvetica,Arial,sans-serif;\"><g class=\"sankey\" transform=\"translate(130,25)\"><g class=\"groups\"/><g class=\"links\"><g class=\"link\" style=\"opacity: 0.8;\"><path d=\"M1,403.3369565217391 A105.55248363721364 105.55248363721364 0.3790973127468644 0 0 40.06307685410961,395.8426333234924 L174.82535331519546,342.15786972127586 A120.71552711547452 120.71552711547452 0.3790973127468644 0 1 219.5,333.5869565217391 L219.5,348.75 A105.55248363721364 105.55248363721364 0.3790973127468644 0 0 180.43692314589038,356.2443231982467 L45.67464668480456,409.92908680046327 A120.71552711547452 120.71552711547452 0.3790973127468644 0 1 1,418.5 Z\" style=\"fill: rgb(255, 215, 0);\"/><title>other → waypoint\nbananas\n3.00</title></g><g class=\"link\" style=\"opacity: 0.8;\"><path d=\"M1,46.5 A133.3513966806919 133.3513966806919 0.37909731274686465 0 1 50.35095487705036,55.96807153394512 L185.11323133813616,109.65283513616167 A92.91661407199624 92.91661407199624 0.37909731274686465 0 0 219.5,116.25000000000001 L219.5,156.68478260869566 A133.3513966806919 133.3513966806919 0.37909731274686465 0 1 170.14904512294962,147.21671107475055 L35.38676866186383,93.53194747253401 A92.91661407199624 92.91661407199624 0.37909731274686465 0 0 1,86.93478260869566 Z\" style=\"fill: rgb(154, 205, 50);\"/><title>farm1 → waypoint\napples\n8.00</title></g><g class=\"link\" style=\"opacity: 0.8;\"><path d=\"M220.5,308.3152173913044 A133.3513966806919 133.3513966806919 0.4138790108606507 0 1 274.129110000689,319.57438025990956 L378.25652421065683,365.31242908084 A151.04161407199626 151.04161407199626 0.4138790108606507 0 0 439,378.0652173913044 L439,418.5 A191.4763966806919 191.4763966806919 0.4138790108606507 0 1 361.99511669373305,402.333210679572 L257.86770248376524,356.5951618586416 A92.91661407199625 92.91661407199625 0.4138790108606507 0 0 220.5,348.75 Z\" style=\"fill: rgb(255, 215, 0);\"/><title>waypoint → Women\nbananas\n8.00</title></g><g class=\"link\" style=\"opacity: 0.8;\"><path d=\"M1,133.43478260869566 A399.95310308555395 399.95310308555395 0.13401140087413665 0 1 54.437990556237615,137.02080099488253 L181.25658915718313,154.11841413178755 A286.23027699859745 286.23027699859745 0.13401140087413665 0 0 219.5,156.68478260869566 L219.5,207.22826086956522 A336.77375525946707 336.77375525946707 0.13401140087413665 0 1 174.50344261788504,204.20871465519988 L47.6848440169395,187.11110151829487 A349.40962482468444 349.40962482468444 0.13401140087413665 0 0 1,183.97826086956522 Z\" style=\"fill: rgb(154, 205, 50);\"/><title>farm2 → waypoint\napples\n10.0</title></g><g class=\"link\" style=\"opacity: 0.8;\"><path d=\"M1,306.2934782608696 A286.23027699859745 286.23027699859745 0.12989727992719557 0 0 38.07606285369651,303.8820467147237 L175.87692473205206,285.8807282746083 A336.77375525946707 336.77375525946707 0.12989727992719557 0 1 219.5,283.0434782608696 L219.5,333.5869565217391 A286.23027699859745 286.23027699859745 0.12989727992719557 0 0 182.42393714630347,335.99838806788506 L44.62307526794794,353.99970650800043 A336.77375525946707 336.77375525946707 0.12989727992719557 0 1 1,356.8369565217391 Z\" style=\"fill: rgb(154, 205, 50);\"/><title>farm3 → waypoint\napples\n10.0</title></g><g class=\"link\" style=\"opacity: 0.8;\"><path d=\"M220.5,181.95652173913044 A145.9872662459093 145.9872662459093 0.4138790108606507 0 0 279.2107998497277,169.63048355491156 L383.33821405969553,123.89243473398109 A138.40574450677883 138.40574450677883 0.4138790108606507 0 1 439,112.20652173913041 L439,162.74999999999997 A87.86226624590925 87.86226624590925 0.4138790108606507 0 0 403.6649734558502,170.16841173239604 L299.5375592458824,215.9064605533265 A196.53074450677886 196.53074450677886 0.4138790108606507 0 1 220.5,232.5 Z\" style=\"fill: rgb(255, 215, 0);\"/><title>waypoint → Men\nbananas\n10.0</title></g><g class=\"link\" style=\"opacity: 0.8;\"><path d=\"M220.5,116.25 A80.28074450677886 80.28074450677886 0.4138790108606507 0 0 252.78601263472657,109.47171345697213 L356.91342684469436,63.733664636041695 A204.11226624590927 204.11226624590927 0.4138790108606507 0 1 439,46.50000000000001 L439,112.20652173913044 A138.40574450677883 138.40574450677883 0.4138790108606507 0 0 383.33821405969553,123.89243473398112 L279.2107998497277,169.63048355491156 A145.9872662459093 145.9872662459093 0.4138790108606507 0 1 220.5,181.95652173913044 Z\" style=\"fill: rgb(154, 205, 50);\"/><title>waypoint → Men\napples\n13.0</title></g><g class=\"link\" style=\"opacity: 0.8;\"><path d=\"M1,183.9782608695652 A349.40962482468444 349.40962482468444 0.13401140087413665 0 1 47.6848440169395,187.11110151829484 L174.50344261788504,204.20871465519986 A336.77375525946707 336.77375525946707 0.13401140087413665 0 0 219.5,207.2282608695652 L219.5,283.04347826086956 A412.58897265077144 412.58897265077144 0.13401140087413665 0 1 164.37372280893786,279.34416544031836 L37.55512420799234,262.24655230341335 A273.59440743338007 273.59440743338007 0.13401140087413665 0 0 1,259.79347826086956 Z\" style=\"fill: rgb(255, 215, 0);\"/><title>farm2 → waypoint\nbananas\n15.0</title></g><g class=\"link\" style=\"opacity: 0.8;\"><path d=\"M220.5,232.5 A209.16661407199626 209.16661407199626 0.4138790108606507 0 1 304.6192490949211,250.16041476228716 L408.7466633048889,295.89846358321756 A75.2263966806919 75.2263966806919 0.4138790108606507 0 0 439,302.25 L439,378.0652173913044 A151.04161407199626 151.04161407199626 0.4138790108606507 0 1 378.25652421065683,365.31242908084005 L274.129110000689,319.5743802599096 A133.3513966806919 133.3513966806919 0.4138790108606507 0 0 220.5,308.3152173913044 Z\" style=\"fill: rgb(154, 205, 50);\"/><title>waypoint → Women\napples\n15.0</title></g></g><g class=\"nodes\"><g class=\"node\" transform=\"translate(0,46.5)\"><title>farm1</title><text dy=\".35em\" text-anchor=\"end\" transform=\"translate(-4,20.217391304347828)\" style=\"display: inline;\">farm1</text><line x1=\"0\" x2=\"0\" y1=\"0\" y2=\"40.434782608695656\" style=\"display: inline; stroke: rgb(136, 136, 136); stroke-width: 4px;\"/><rect x=\"-5\" y=\"-5\" width=\"10\" style=\"fill: none; visibility: hidden; pointer-events: all;\" height=\"45.434782608695656\"/></g><g class=\"node\" transform=\"translate(0,133.43478260869566)\"><title>farm2</title><text dy=\".35em\" text-anchor=\"end\" transform=\"translate(-4,63.17934782608695)\" style=\"display: inline;\">farm2</text><line x1=\"0\" x2=\"0\" y1=\"0\" y2=\"126.3586956521739\" style=\"display: inline; stroke: rgb(136, 136, 136); stroke-width: 4px;\"/><rect x=\"-5\" y=\"-5\" width=\"10\" style=\"fill: none; visibility: hidden; pointer-events: all;\" height=\"131.3586956521739\"/></g><g class=\"node\" transform=\"translate(0,306.29347826086956)\"><title>farm3</title><text dy=\".35em\" text-anchor=\"end\" transform=\"translate(-4,25.27173913043478)\" style=\"display: inline;\">farm3</text><line x1=\"0\" x2=\"0\" y1=\"0\" y2=\"50.54347826086956\" style=\"display: inline; stroke: rgb(136, 136, 136); stroke-width: 4px;\"/><rect x=\"-5\" y=\"-5\" width=\"10\" style=\"fill: none; visibility: hidden; pointer-events: all;\" height=\"55.54347826086956\"/></g><g class=\"node\" transform=\"translate(0,403.3369565217391)\"><title>other</title><text dy=\".35em\" text-anchor=\"end\" transform=\"translate(-4,7.581521739130437)\" style=\"display: inline;\">other</text><line x1=\"0\" x2=\"0\" y1=\"0\" y2=\"15.163043478260875\" style=\"display: inline; stroke: rgb(136, 136, 136); stroke-width: 4px;\"/><rect x=\"-5\" y=\"-5\" width=\"10\" style=\"fill: none; visibility: hidden; pointer-events: all;\" height=\"20.163043478260875\"/></g><g class=\"node\" transform=\"translate(219.5,116.25000000000001)\"><title>waypoint</title><text dy=\".35em\" text-anchor=\"start\" transform=\"translate(-4,-10)\" style=\"display: inline;\">waypoint</text><line x1=\"0\" x2=\"0\" y1=\"-5\" y2=\"232.5\" style=\"display: inline; stroke: rgb(0, 0, 0);\"/><rect x=\"-5\" y=\"-5\" width=\"10\" style=\"fill: none; visibility: hidden; pointer-events: all;\" height=\"237.5\"/></g><g class=\"node\" transform=\"translate(439,46.5)\"><title>Men</title><text dy=\".35em\" text-anchor=\"start\" transform=\"translate(4,58.125)\" style=\"display: inline;\">Men</text><line x1=\"0\" x2=\"0\" y1=\"0\" y2=\"116.25\" style=\"display: inline; stroke: rgb(136, 136, 136); stroke-width: 4px;\"/><rect x=\"-5\" y=\"-5\" width=\"10\" style=\"fill: none; visibility: hidden; pointer-events: all;\" height=\"121.25\"/></g><g class=\"node\" transform=\"translate(439,302.25)\"><title>Women</title><text dy=\".35em\" text-anchor=\"start\" transform=\"translate(4,58.125)\" style=\"display: inline;\">Women</text><line x1=\"0\" x2=\"0\" y1=\"0\" y2=\"116.25\" style=\"display: inline; stroke: rgb(136, 136, 136); stroke-width: 4px;\"/><rect x=\"-5\" y=\"-5\" width=\"10\" style=\"fill: none; visibility: hidden; pointer-events: all;\" height=\"121.25\"/></g></g><g class=\"slice-titles\"/></g></svg>"
      }
     },
     "d5e07aca4e97411d8852bbfeccdec5ed": {
      "model_module": "@jupyter-widgets/base",
      "model_module_version": "1.0.0",
      "model_name": "LayoutModel",
      "state": {
       "height": "500",
       "width": "700"
      }
     },
     "e1848984ee3f4f5891d89339c1415557": {
      "model_module": "jupyter-sankey-widget",
      "model_module_version": "^0.2.2",
      "model_name": "SankeyModel",
      "state": {
       "_model_module_version": "^0.2.2",
       "_view_module_version": "^0.2.2",
       "layout": "IPY_MODEL_35e111b9f3874fec96c35008d4481aa2",
       "links": [
        {
         "bundles": [
          "0"
         ],
         "color": "yellowgreen",
         "opacity": 1,
         "source": "farms^farm1",
         "target": "customers^Men",
         "time": "*",
         "title": "apples",
         "type": "apples",
         "value": 3
        },
        {
         "bundles": [
          "0"
         ],
         "color": "yellowgreen",
         "opacity": 1,
         "source": "farms^farm1",
         "target": "customers^Women",
         "time": "*",
         "title": "apples",
         "type": "apples",
         "value": 5
        },
        {
         "bundles": [
          "0"
         ],
         "color": "yellowgreen",
         "opacity": 1,
         "source": "farms^farm2",
         "target": "customers^Men",
         "time": "*",
         "title": "apples",
         "type": "apples",
         "value": 10
        },
        {
         "bundles": [
          "0"
         ],
         "color": "gold",
         "opacity": 1,
         "source": "farms^farm2",
         "target": "customers^Men",
         "time": "*",
         "title": "bananas",
         "type": "bananas",
         "value": 10
        },
        {
         "bundles": [
          "0"
         ],
         "color": "gold",
         "opacity": 1,
         "source": "farms^farm2",
         "target": "customers^Women",
         "time": "*",
         "title": "bananas",
         "type": "bananas",
         "value": 5
        },
        {
         "bundles": [
          "0"
         ],
         "color": "yellowgreen",
         "opacity": 1,
         "source": "farms^farm3",
         "target": "customers^Women",
         "time": "*",
         "title": "apples",
         "type": "apples",
         "value": 10
        },
        {
         "bundles": [
          "0"
         ],
         "color": "gold",
         "opacity": 1,
         "source": "farms^other",
         "target": "customers^Women",
         "time": "*",
         "title": "bananas",
         "type": "bananas",
         "value": 3
        }
       ],
       "margins": {
        "bottom": 10,
        "left": 130,
        "right": 130,
        "top": 25
       },
       "nodes": [
        {
         "direction": "r",
         "id": "farms^farm1",
         "style": "process",
         "title": "farm1",
         "visibility": "visible"
        },
        {
         "direction": "r",
         "id": "farms^farm2",
         "style": "process",
         "title": "farm2",
         "visibility": "visible"
        },
        {
         "direction": "r",
         "id": "farms^farm3",
         "style": "process",
         "title": "farm3",
         "visibility": "visible"
        },
        {
         "direction": "r",
         "id": "farms^other",
         "style": "process",
         "title": "other",
         "visibility": "visible"
        },
        {
         "direction": "r",
         "id": "customers^Men",
         "style": "process",
         "title": "Men",
         "visibility": "visible"
        },
        {
         "direction": "r",
         "id": "customers^Women",
         "style": "process",
         "title": "Women",
         "visibility": "visible"
        }
       ],
       "order": [
        [
         [
          "farms^farm1",
          "farms^farm2",
          "farms^farm3",
          "farms^other"
         ]
        ],
        [
         [
          "customers^Men",
          "customers^Women"
         ]
        ]
       ],
       "png": "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",
       "scale": 5.054347826086956,
       "svg": "<?xml version=\"1.0\" standalone=\"no\"?><!DOCTYPE svg PUBLIC \"-//W3C//DTD SVG 1.1//EN\" \"http://www.w3.org/Graphics/SVG/1.1/DTD/svg11.dtd\"><svg xmlns=\"http://www.w3.org/2000/svg\" width=\"700\" height=\"500\" viewBox=\"0 0 700 500\" style=\"font-family: &quot;Helvetica Neue&quot;,Helvetica,Arial,sans-serif;\"><g class=\"sankey\" transform=\"translate(130,25)\"><g class=\"groups\"/><g class=\"links\"><g class=\"link\" style=\"opacity: 0.8;\"><path d=\"M1,46.5 A0 0 0 0 0 1,46.5 L439,46.5 A0 0 0 0 0 439,46.5 L439,61.663043478260875 A0 0 0 0 0 439,61.663043478260875 L1,61.663043478260875 A0 0 0 0 0 1,61.663043478260875 Z\" style=\"fill: rgb(154, 205, 50);\"/><title>farm1 → Men\napples\n3.00</title></g><g class=\"link\" style=\"opacity: 0.8;\"><path d=\"M1,403.3369565217391 A0 0 0 0 0 1,403.3369565217391 L439,403.33695652173907 A0 0 0 0 1 439,403.33695652173907 L439,418.49999999999994 A0 0 0 0 0 439,418.49999999999994 L1,418.5 A0 0 0 0 1 1,418.5 Z\" style=\"fill: rgb(255, 215, 0);\"/><title>other → Women\nbananas\n3.00</title></g><g class=\"link\" style=\"opacity: 0.8;\"><path d=\"M1,61.66304347826086 A168.33388864662277 168.33388864662277 0.6176960448053634 0 1 98.49199917713621,92.76862541180468 L356.14434285902564,275.8142570302259 A143.06214951618796 143.06214951618796 0.6176960448053634 0 0 439,302.25 L439,327.52173913043475 A168.33388864662277 168.33388864662277 0.6176960448053634 0 1 341.5080008228638,296.41615719689094 L83.85565714097437,113.37052557846967 A143.06214951618796 143.06214951618796 0.6176960448053634 0 0 1,86.93478260869564 Z\" style=\"fill: rgb(154, 205, 50);\"/><title>farm1 → Women\napples\n5.00</title></g><g class=\"link\" style=\"opacity: 0.8;\"><path d=\"M1,234.5217391304348 A336.0116760168305 336.0116760168305 0.25649119890582694 0 1 86.24216571336846,245.51400095153744 L360.16897392427205,317.356215167044 A310.73993688639575 310.73993688639575 0.25649119890582694 0 0 439,327.52173913043475 L439,352.7934782608695 A336.0116760168305 336.0116760168305 0.25649119890582694 0 1 353.7578342866315,341.80121643976685 L79.8310260757279,269.9590022242603 A310.73993688639575 310.73993688639575 0.25649119890582694 0 0 1,259.79347826086956 Z\" style=\"fill: rgb(255, 215, 0);\"/><title>farm2 → Women\nbananas\n5.00</title></g><g class=\"link\" style=\"opacity: 0.8;\"><path d=\"M1,133.43478260869566 A386.44013714122036 386.44013714122036 0.20277302280704057 0 0 78.82375342320562,125.51735680306913 L340.8187173696892,71.65154938467151 A487.5270936629595 487.5270936629595 0.20277302280704057 0 1 439,61.663043478260875 L439,112.20652173913044 A436.98361540209 436.98361540209 0.20277302280704057 0 0 350.9974819732418,121.15948759514902 L89.00251802675821,175.02529501354664 A436.98361540209 436.98361540209 0.20277302280704057 0 1 1,183.97826086956522 Z\" style=\"fill: rgb(154, 205, 50);\"/><title>farm2 → Men\napples\n10.0</title></g><g class=\"link\" style=\"opacity: 0.8;\"><path d=\"M1,183.97826086956522 A436.98361540209 436.98361540209 0.20277302280704057 0 0 89.00251802675821,175.02529501354664 L350.9974819732418,121.15948759514902 A436.98361540209 436.98361540209 0.20277302280704057 0 1 439,112.20652173913044 L439,162.75 A386.44013714122036 386.44013714122036 0.20277302280704057 0 0 361.1762465767944,170.66742580562652 L99.1812826303108,224.53323322402414 A487.5270936629595 487.5270936629595 0.20277302280704057 0 1 1,234.52173913043478 Z\" style=\"fill: rgb(255, 215, 0);\"/><title>farm2 → Men\nbananas\n10.0</title></g><g class=\"link\" style=\"opacity: 0.8;\"><path d=\"M1,306.2934782608696 A651.0983520336621 651.0983520336621 0.129602824103072 0 1 85.1481515035202,311.7540428165285 L361.3841031903001,347.75680653960177 A600.5548737727926 600.5548737727926 0.129602824103072 0 0 439,352.7934782608695 L439,403.336956521739 A651.0983520336621 651.0983520336621 0.129602824103072 0 1 354.8518484964798,397.8763919660801 L78.61589680969992,361.87362824300686 A600.5548737727926 600.5548737727926 0.129602824103072 0 0 1,356.8369565217391 Z\" style=\"fill: rgb(154, 205, 50);\"/><title>farm3 → Women\napples\n10.0</title></g></g><g class=\"nodes\"><g class=\"node\" transform=\"translate(0,46.5)\"><title>farm1</title><text dy=\".35em\" text-anchor=\"end\" transform=\"translate(-4,20.217391304347828)\" style=\"display: inline;\">farm1</text><line x1=\"0\" x2=\"0\" y1=\"0\" y2=\"40.434782608695656\" style=\"display: inline; stroke: rgb(136, 136, 136); stroke-width: 4px;\"/><rect x=\"-5\" y=\"-5\" width=\"10\" style=\"fill: none; visibility: hidden; pointer-events: all;\" height=\"45.434782608695656\"/></g><g class=\"node\" transform=\"translate(0,133.43478260869566)\"><title>farm2</title><text dy=\".35em\" text-anchor=\"end\" transform=\"translate(-4,63.17934782608695)\" style=\"display: inline;\">farm2</text><line x1=\"0\" x2=\"0\" y1=\"0\" y2=\"126.3586956521739\" style=\"display: inline; stroke: rgb(136, 136, 136); stroke-width: 4px;\"/><rect x=\"-5\" y=\"-5\" width=\"10\" style=\"fill: none; visibility: hidden; pointer-events: all;\" height=\"131.3586956521739\"/></g><g class=\"node\" transform=\"translate(0,306.29347826086956)\"><title>farm3</title><text dy=\".35em\" text-anchor=\"end\" transform=\"translate(-4,25.27173913043478)\" style=\"display: inline;\">farm3</text><line x1=\"0\" x2=\"0\" y1=\"0\" y2=\"50.54347826086956\" style=\"display: inline; stroke: rgb(136, 136, 136); stroke-width: 4px;\"/><rect x=\"-5\" y=\"-5\" width=\"10\" style=\"fill: none; visibility: hidden; pointer-events: all;\" height=\"55.54347826086956\"/></g><g class=\"node\" transform=\"translate(0,403.3369565217391)\"><title>other</title><text dy=\".35em\" text-anchor=\"end\" transform=\"translate(-4,7.581521739130437)\" style=\"display: inline;\">other</text><line x1=\"0\" x2=\"0\" y1=\"0\" y2=\"15.163043478260875\" style=\"display: inline; stroke: rgb(136, 136, 136); stroke-width: 4px;\"/><rect x=\"-5\" y=\"-5\" width=\"10\" style=\"fill: none; visibility: hidden; pointer-events: all;\" height=\"20.163043478260875\"/></g><g class=\"node\" transform=\"translate(439,46.5)\"><title>Men</title><text dy=\".35em\" text-anchor=\"start\" transform=\"translate(4,58.125)\" style=\"display: inline;\">Men</text><line x1=\"0\" x2=\"0\" y1=\"0\" y2=\"116.25\" style=\"display: inline; stroke: rgb(136, 136, 136); stroke-width: 4px;\"/><rect x=\"-5\" y=\"-5\" width=\"10\" style=\"fill: none; visibility: hidden; pointer-events: all;\" height=\"121.25\"/></g><g class=\"node\" transform=\"translate(439,302.25)\"><title>Women</title><text dy=\".35em\" text-anchor=\"start\" transform=\"translate(4,58.125)\" style=\"display: inline;\">Women</text><line x1=\"0\" x2=\"0\" y1=\"0\" y2=\"116.25\" style=\"display: inline; stroke: rgb(136, 136, 136); stroke-width: 4px;\"/><rect x=\"-5\" y=\"-5\" width=\"10\" style=\"fill: none; visibility: hidden; pointer-events: all;\" height=\"121.25\"/></g></g><g class=\"slice-titles\"/></g></svg>"
      }
     }
    },
    "version_major": 2,
    "version_minor": 0
   }
  }
 },
 "nbformat": 4,
 "nbformat_minor": 2
}
